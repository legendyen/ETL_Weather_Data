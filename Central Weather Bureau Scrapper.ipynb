{
 "cells": [
  {
   "cell_type": "markdown",
   "id": "ad7149a7",
   "metadata": {},
   "source": [
    "# Central Weather Bureau Scrapper"
   ]
  },
  {
   "cell_type": "markdown",
   "id": "4841f145",
   "metadata": {},
   "source": [
    "Create a weather view for next 6 hours in each cities in Taiwan."
   ]
  },
  {
   "cell_type": "code",
   "execution_count": 1,
   "id": "cee3d6e3",
   "metadata": {},
   "outputs": [
    {
     "data": {
      "text/plain": [
       "'%.2f'"
      ]
     },
     "execution_count": 1,
     "metadata": {},
     "output_type": "execute_result"
    }
   ],
   "source": [
    "import requests\n",
    "import json\n",
    "\n",
    "%precision 2"
   ]
  },
  {
   "cell_type": "code",
   "execution_count": 2,
   "id": "0a9d1018",
   "metadata": {},
   "outputs": [],
   "source": [
    "response = requests.get(\"https://opendata.cwb.gov.tw/api/v1/rest/datastore/F-C0032-001?Authorization=CWB-4F680A3D-49B6-4B48-BA1B-308A6C464DEF\")"
   ]
  },
  {
   "cell_type": "code",
   "execution_count": 3,
   "id": "3557d5d2",
   "metadata": {},
   "outputs": [
    {
     "data": {
      "text/plain": [
       "'OK'"
      ]
     },
     "execution_count": 3,
     "metadata": {},
     "output_type": "execute_result"
    }
   ],
   "source": [
    "response.reason"
   ]
  },
  {
   "cell_type": "code",
   "execution_count": 4,
   "id": "d0b67894",
   "metadata": {},
   "outputs": [],
   "source": [
    "json_data = response.json()"
   ]
  },
  {
   "cell_type": "code",
   "execution_count": 6,
   "id": "08037e92",
   "metadata": {},
   "outputs": [],
   "source": [
    "from datetime import datetime"
   ]
  },
  {
   "cell_type": "code",
   "execution_count": 7,
   "id": "cde5c315",
   "metadata": {},
   "outputs": [],
   "source": [
    "location = json_data['records']['location']\n",
    "\n",
    "lst = []\n",
    "for i in location:\n",
    "    city = i['locationName']                                                 # city \n",
    "    \n",
    "    date_time_str = i['weatherElement'][0]['time'][0]['startTime']           # time of record\n",
    "    date_time = datetime.strptime(date_time_str,'%Y-%m-%d %H:%M:%S')\n",
    "    \n",
    "    wx6 = i['weatherElement'][0]['time'][0]['parameter']['parameterName']    # weather phonenmon\n",
    "    pop6 = i['weatherElement'][1]['time'][0]['parameter']['parameterName']   # chance of rain\n",
    "    mint6 = i['weatherElement'][2]['time'][0]['parameter']['parameterName']  # lowest temperature\n",
    "    ci6 = i['weatherElement'][3]['time'][0]['parameter']['parameterName']    # comfortable index\n",
    "    maxt6 = i['weatherElement'][4]['time'][0]['parameter']['parameterName']  # highest temperature\n",
    "        \n",
    "    lst.append((date_time, city, wx6, int(maxt6),  int(mint6), int(pop6)/100))"
   ]
  },
  {
   "cell_type": "code",
   "execution_count": 8,
   "id": "f66f95d1",
   "metadata": {},
   "outputs": [
    {
     "data": {
      "text/plain": [
       "[(datetime.datetime(2023, 7, 11, 12, 0), '嘉義縣', '多雲午後短暫雷陣雨', 34, 31, 0.50),\n",
       " (datetime.datetime(2023, 7, 11, 12, 0), '新北市', '晴午後短暫雷陣雨', 34, 31, 0.60),\n",
       " (datetime.datetime(2023, 7, 11, 12, 0), '嘉義市', '多雲午後短暫雷陣雨', 34, 30, 0.70),\n",
       " (datetime.datetime(2023, 7, 11, 12, 0), '新竹縣', '晴時多雲', 33, 31, 0.20),\n",
       " (datetime.datetime(2023, 7, 11, 12, 0), '新竹市', '晴時多雲', 32, 30, 0.10),\n",
       " (datetime.datetime(2023, 7, 11, 12, 0), '臺北市', '多雲午後短暫雷陣雨', 35, 31, 0.50),\n",
       " (datetime.datetime(2023, 7, 11, 12, 0), '臺南市', '多雲時晴', 32, 30, 0.20),\n",
       " (datetime.datetime(2023, 7, 11, 12, 0), '宜蘭縣', '晴時多雲', 33, 30, 0.10),\n",
       " (datetime.datetime(2023, 7, 11, 12, 0), '苗栗縣', '多雲時晴', 33, 31, 0.20),\n",
       " (datetime.datetime(2023, 7, 11, 12, 0), '雲林縣', '多雲午後短暫雷陣雨', 34, 30, 0.60),\n",
       " (datetime.datetime(2023, 7, 11, 12, 0), '花蓮縣', '多雲短暫陣雨', 32, 29, 0.30),\n",
       " (datetime.datetime(2023, 7, 11, 12, 0), '臺中市', '晴午後短暫雷陣雨', 34, 32, 0.50),\n",
       " (datetime.datetime(2023, 7, 11, 12, 0), '臺東縣', '多雲', 31, 29, 0.10),\n",
       " (datetime.datetime(2023, 7, 11, 12, 0), '桃園市', '晴午後短暫雷陣雨', 34, 32, 0.40),\n",
       " (datetime.datetime(2023, 7, 11, 12, 0), '南投縣', '多雲午後短暫雷陣雨', 34, 30, 0.60),\n",
       " (datetime.datetime(2023, 7, 11, 12, 0), '高雄市', '多雲午後短暫雷陣雨', 33, 31, 0.60),\n",
       " (datetime.datetime(2023, 7, 11, 12, 0), '金門縣', '晴時多雲', 31, 29, 0.00),\n",
       " (datetime.datetime(2023, 7, 11, 12, 0), '屏東縣', '多雲午後短暫雷陣雨', 34, 30, 0.80),\n",
       " (datetime.datetime(2023, 7, 11, 12, 0), '基隆市', '多雲', 33, 30, 0.20),\n",
       " (datetime.datetime(2023, 7, 11, 12, 0), '澎湖縣', '晴時多雲', 32, 30, 0.00),\n",
       " (datetime.datetime(2023, 7, 11, 12, 0), '彰化縣', '晴時多雲', 34, 31, 0.20),\n",
       " (datetime.datetime(2023, 7, 11, 12, 0), '連江縣', '晴時多雲', 31, 28, 0.00)]"
      ]
     },
     "execution_count": 8,
     "metadata": {},
     "output_type": "execute_result"
    }
   ],
   "source": [
    "lst"
   ]
  },
  {
   "cell_type": "code",
   "execution_count": 9,
   "id": "b1ef2f34",
   "metadata": {},
   "outputs": [],
   "source": [
    "# location = json_data['records']['location']\n",
    "\n",
    "# lst2 = []\n",
    "# for i in location:\n",
    "#     for t in range(3):\n",
    "#         city = i['locationName']    # city name\n",
    "#         wx6 = i['weatherElement'][0]['time'][t]['parameter']['parameterName']    # weather phonenmon\n",
    "#         pop6 = i['weatherElement'][1]['time'][t]['parameter']['parameterName']   # chance of rain\n",
    "#         mint6 = i['weatherElement'][2]['time'][t]['parameter']['parameterName']  # lowest temperature\n",
    "#         ci6 = i['weatherElement'][3]['time'][t]['parameter']['parameterName']    # comfortable index\n",
    "#         maxt6 = i['weatherElement'][4]['time'][t]['parameter']['parameterName']  # highest temperature\n",
    "\n",
    "#         lst2.append((city, wx6, int(maxt6),  int(mint6), int(pop6)/100))"
   ]
  },
  {
   "cell_type": "code",
   "execution_count": 10,
   "id": "3ab46447",
   "metadata": {},
   "outputs": [],
   "source": [
    "import pymysql\n",
    "\n",
    "conn = pymysql.connect(\n",
    "    host='localhost',\n",
    "    user='root',\n",
    "    password='Leoyen-1998',\n",
    "    db='weather',\n",
    "    cursorclass=pymysql.cursors.DictCursor\n",
    ")"
   ]
  },
  {
   "cell_type": "code",
   "execution_count": 11,
   "id": "21e7a3bb",
   "metadata": {},
   "outputs": [
    {
     "name": "stdout",
     "output_type": "stream",
     "text": [
      "Record inserted successfully\n"
     ]
    }
   ],
   "source": [
    "try:\n",
    "    with conn.cursor() as cursor:\n",
    "        \n",
    "        sql = \"\"\"INSERT INTO weather_6hr (date, city, weather, temperature_highest, temperature_lowest, chance_of_rain) \n",
    "    VALUES(%s, %s, %s, %s, %s, %s)\"\"\"\n",
    "        \n",
    "        for entry in lst:\n",
    "            cursor.execute(sql, entry)\n",
    "            \n",
    "    conn.commit()\n",
    "    print(\"Record inserted successfully\")\n",
    "    \n",
    "finally:\n",
    "    conn.close()"
   ]
  },
  {
   "cell_type": "code",
   "execution_count": null,
   "id": "fa680aae",
   "metadata": {},
   "outputs": [],
   "source": []
  }
 ],
 "metadata": {
  "kernelspec": {
   "display_name": "Python 3 (ipykernel)",
   "language": "python",
   "name": "python3"
  },
  "language_info": {
   "codemirror_mode": {
    "name": "ipython",
    "version": 3
   },
   "file_extension": ".py",
   "mimetype": "text/x-python",
   "name": "python",
   "nbconvert_exporter": "python",
   "pygments_lexer": "ipython3",
   "version": "3.9.13"
  }
 },
 "nbformat": 4,
 "nbformat_minor": 5
}
